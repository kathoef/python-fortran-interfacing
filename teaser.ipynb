{
 "cells": [
  {
   "cell_type": "markdown",
   "metadata": {},
   "source": [
    "# Python/FORTRAN interfacing teaser\n",
    "\n",
    "This is a collection of general ideas and starting points on how to simplify the further development of ocean, atmosphere and climate models. This notebook is meant to provide examples on how to access compiled FORTRAN routines using Python on-board packages/features. Shared library compiling, shared library function calling and multi-dimensional array manipulation are covered here. This document might serve as discussion basis for the development and application of best practices in ocean/climate model development."
   ]
  },
  {
   "cell_type": "markdown",
   "metadata": {},
   "source": [
    "## a subjective ocean modeler's perspective\n",
    "\n",
    "ocean model code usually consists of a main program unit\n",
    "\n",
    "```fortran\n",
    "!--------------------------- main.f90 -----------------------------------\n",
    " PROGRAM main\n",
    "\n",
    "  ! declaration\n",
    "\n",
    "  ! initialization\n",
    "\n",
    "  ! main loop\n",
    "  do it = 1,itend\n",
    "    CALL update_external_forcing\n",
    "    CALL numerical_integration\n",
    "    CALL write_disk_output\n",
    "  end do\n",
    "\n",
    "  ! restart preparation\n",
    "    \n",
    " END PROGRAM main\n",
    "!------------------------------------------------------------------------\n",
    "```\n",
    "\n",
    "and many subroutines organized in \n",
    "\n",
    "```fortran\n",
    "!------------------------------ subroutines.f90 -------------------------\n",
    "\n",
    " ...\n",
    "\n",
    " SUBROUTINE square_root(a)\n",
    "  IMPLICIT NONE\n",
    "  real :: a\n",
    "  a = SQRT(a)\n",
    " END SUBROUTINE square_root\n",
    "\n",
    " ...\n",
    " \n",
    "!------------------------------------------------------------------------\n",
    "```\n",
    "\n",
    "### testing changes to an ocean model code usually involves\n",
    "\n",
    "* changing of the FORTRAN code\n",
    "* compiling of complete model code\n",
    "* setup of a test experiment directory structure\n",
    "* job submission into some HPC queue\n",
    "* ... waiting time ...\n",
    "* drawing conclusions based on output\n",
    "* probably start over ...\n",
    "\n",
    "would be very useful if it could be shortened to\n",
    "\n",
    "* change FORTRAN code\n",
    "* compile only subroutine\n",
    "* execute and draw conclusions\n",
    "* start over ..."
   ]
  },
  {
   "cell_type": "markdown",
   "metadata": {},
   "source": [
    "## Shared library compiling\n",
    "\n",
    "ask your compiler's documentation about how to do it!"
   ]
  },
  {
   "cell_type": "code",
   "execution_count": 1,
   "metadata": {},
   "outputs": [
    {
     "name": "stdout",
     "output_type": "stream",
     "text": [
      "Overwriting subroutines.f90\n"
     ]
    }
   ],
   "source": [
    "%%writefile subroutines.f90\n",
    "\n",
    "SUBROUTINE square(a)\n",
    "    IMPLICIT NONE\n",
    "    real :: a\n",
    "    a = a**2\n",
    "END SUBROUTINE square\n",
    "\n",
    "SUBROUTINE square_root(b)\n",
    "    IMPLICIT NONE\n",
    "    real :: b\n",
    "    b = SQRT(b)\n",
    "END SUBROUTINE square_root\n"
   ]
  },
  {
   "cell_type": "code",
   "execution_count": 2,
   "metadata": {},
   "outputs": [
    {
     "name": "stdout",
     "output_type": "stream",
     "text": [
      "total 40K\n",
      "-rw-r--r-- 1 jovyan jovyan  156 Dec  5 07:06 README.md\n",
      "drwxr-xr-x 1 jovyan jovyan 4.0K Dec  5 07:06 binder\n",
      "-rw-r--r-- 1 jovyan root    17K Dec  5 07:34 lunch-seminar-teaser.ipynb\n",
      "-rw-r--r-- 1 jovyan root    191 Dec  5 07:34 subroutines.f90\n",
      "-rwxr-xr-x 1 jovyan root   7.4K Dec  5 07:34 subroutines.so\n"
     ]
    }
   ],
   "source": [
    "%%script bash\n",
    "# echo `which gfortran` && gfortran --version\n",
    "gfortran -shared -fpic subroutines.f90 -o subroutines.so && ls -lrth"
   ]
  },
  {
   "cell_type": "markdown",
   "metadata": {},
   "source": [
    "unix tools are useful..."
   ]
  },
  {
   "cell_type": "code",
   "execution_count": 3,
   "metadata": {},
   "outputs": [
    {
     "name": "stdout",
     "output_type": "stream",
     "text": [
      "\r\n",
      "Symbol table '.dynsym' contains 12 entries:\r\n",
      "   Num:    Value          Size Type    Bind   Vis      Ndx Name\r\n",
      "     0: 0000000000000000     0 NOTYPE  LOCAL  DEFAULT  UND \r\n",
      "     1: 0000000000000000     0 NOTYPE  WEAK   DEFAULT  UND __cxa_finalize\r\n",
      "     2: 0000000000000000     0 NOTYPE  WEAK   DEFAULT  UND _ITM_registerTMCloneTable\r\n",
      "     3: 0000000000000000     0 NOTYPE  WEAK   DEFAULT  UND _ITM_deregisterTMCloneTab\r\n",
      "     4: 0000000000000000     0 NOTYPE  WEAK   DEFAULT  UND __gmon_start__\r\n",
      "     5: 0000000000201020     0 NOTYPE  GLOBAL DEFAULT   18 _edata\r\n",
      "     6: 0000000000201028     0 NOTYPE  GLOBAL DEFAULT   19 _end\r\n",
      "     7: 00000000000005b9    31 FUNC    GLOBAL DEFAULT    9 square_root_\r\n",
      "     8: 0000000000000488     0 FUNC    GLOBAL DEFAULT    6 _init\r\n",
      "     9: 0000000000201020     0 NOTYPE  GLOBAL DEFAULT   19 __bss_start\r\n",
      "    10: 00000000000005d8     0 FUNC    GLOBAL DEFAULT   10 _fini\r\n",
      "    11: 000000000000059a    31 FUNC    GLOBAL DEFAULT    9 square_\r\n",
      "\r\n",
      "Symbol table '.symtab' contains 49 entries:\r\n",
      "   Num:    Value          Size Type    Bind   Vis      Ndx Name\r\n",
      "     0: 0000000000000000     0 NOTYPE  LOCAL  DEFAULT  UND \r\n",
      "     1: 00000000000001c8     0 SECTION LOCAL  DEFAULT    1 \r\n",
      "     2: 00000000000001f0     0 SECTION LOCAL  DEFAULT    2 \r\n",
      "     3: 0000000000000230     0 SECTION LOCAL  DEFAULT    3 \r\n",
      "     4: 0000000000000350     0 SECTION LOCAL  DEFAULT    4 \r\n",
      "     5: 00000000000003e0     0 SECTION LOCAL  DEFAULT    5 \r\n",
      "     6: 0000000000000488     0 SECTION LOCAL  DEFAULT    6 \r\n",
      "     7: 00000000000004a0     0 SECTION LOCAL  DEFAULT    7 \r\n",
      "     8: 00000000000004b0     0 SECTION LOCAL  DEFAULT    8 \r\n",
      "     9: 00000000000004c0     0 SECTION LOCAL  DEFAULT    9 \r\n",
      "    10: 00000000000005d8     0 SECTION LOCAL  DEFAULT   10 \r\n",
      "    11: 00000000000005e4     0 SECTION LOCAL  DEFAULT   11 \r\n",
      "    12: 0000000000000610     0 SECTION LOCAL  DEFAULT   12 \r\n",
      "    13: 0000000000200e80     0 SECTION LOCAL  DEFAULT   13 \r\n",
      "    14: 0000000000200e88     0 SECTION LOCAL  DEFAULT   14 \r\n",
      "    15: 0000000000200e90     0 SECTION LOCAL  DEFAULT   15 \r\n",
      "    16: 0000000000200fe0     0 SECTION LOCAL  DEFAULT   16 \r\n",
      "    17: 0000000000201000     0 SECTION LOCAL  DEFAULT   17 \r\n",
      "    18: 0000000000201018     0 SECTION LOCAL  DEFAULT   18 \r\n",
      "    19: 0000000000201020     0 SECTION LOCAL  DEFAULT   19 \r\n",
      "    20: 0000000000000000     0 SECTION LOCAL  DEFAULT   20 \r\n",
      "    21: 0000000000000000     0 FILE    LOCAL  DEFAULT  ABS crtstuff.c\r\n",
      "    22: 00000000000004c0     0 FUNC    LOCAL  DEFAULT    9 deregister_tm_clones\r\n",
      "    23: 0000000000000500     0 FUNC    LOCAL  DEFAULT    9 register_tm_clones\r\n",
      "    24: 0000000000000550     0 FUNC    LOCAL  DEFAULT    9 __do_global_dtors_aux\r\n",
      "    25: 0000000000201020     1 OBJECT  LOCAL  DEFAULT   19 completed.7697\r\n",
      "    26: 0000000000200e88     0 OBJECT  LOCAL  DEFAULT   14 __do_global_dtors_aux_fin\r\n",
      "    27: 0000000000000590     0 FUNC    LOCAL  DEFAULT    9 frame_dummy\r\n",
      "    28: 0000000000200e80     0 OBJECT  LOCAL  DEFAULT   13 __frame_dummy_init_array_\r\n",
      "    29: 0000000000000000     0 FILE    LOCAL  DEFAULT  ABS subroutines.f90\r\n",
      "    30: 0000000000000000     0 FILE    LOCAL  DEFAULT  ABS crtstuff.c\r\n",
      "    31: 00000000000006a8     0 OBJECT  LOCAL  DEFAULT   12 __FRAME_END__\r\n",
      "    32: 0000000000000000     0 FILE    LOCAL  DEFAULT  ABS \r\n",
      "    33: 0000000000200e90     0 OBJECT  LOCAL  DEFAULT   15 _DYNAMIC\r\n",
      "    34: 0000000000201020     0 OBJECT  LOCAL  DEFAULT   18 __TMC_END__\r\n",
      "    35: 0000000000201018     0 OBJECT  LOCAL  DEFAULT   18 __dso_handle\r\n",
      "    36: 00000000000005e4     0 NOTYPE  LOCAL  DEFAULT   11 __GNU_EH_FRAME_HDR\r\n",
      "    37: 0000000000201000     0 OBJECT  LOCAL  DEFAULT   17 _GLOBAL_OFFSET_TABLE_\r\n",
      "    38: 00000000000005b9    31 FUNC    GLOBAL DEFAULT    9 square_root_\r\n",
      "    39: 0000000000000000     0 NOTYPE  WEAK   DEFAULT  UND __cxa_finalize\r\n",
      "    40: 0000000000000488     0 FUNC    GLOBAL DEFAULT    6 _init\r\n",
      "    41: 0000000000000000     0 NOTYPE  WEAK   DEFAULT  UND _ITM_registerTMCloneTable\r\n",
      "    42: 0000000000000000     0 NOTYPE  WEAK   DEFAULT  UND _ITM_deregisterTMCloneTab\r\n",
      "    43: 0000000000201020     0 NOTYPE  GLOBAL DEFAULT   19 __bss_start\r\n",
      "    44: 00000000000005d8     0 FUNC    GLOBAL DEFAULT   10 _fini\r\n",
      "    45: 000000000000059a    31 FUNC    GLOBAL DEFAULT    9 square_\r\n",
      "    46: 0000000000201020     0 NOTYPE  GLOBAL DEFAULT   18 _edata\r\n",
      "    47: 0000000000201028     0 NOTYPE  GLOBAL DEFAULT   19 _end\r\n",
      "    48: 0000000000000000     0 NOTYPE  WEAK   DEFAULT  UND __gmon_start__\r\n"
     ]
    }
   ],
   "source": [
    "!readelf --symbols subroutines.so"
   ]
  },
  {
   "cell_type": "markdown",
   "metadata": {},
   "source": [
    "## Python/FORTRAN interfacing\n",
    "Don't worry, numpy will handle most of this for you! However,\n",
    "* https://docs.python.org/3/library/ctypes.html"
   ]
  },
  {
   "cell_type": "code",
   "execution_count": 4,
   "metadata": {},
   "outputs": [],
   "source": [
    "import ctypes as ctypes\n",
    "fortran_routines = ctypes.CDLL('./subroutines.so')"
   ]
  },
  {
   "cell_type": "code",
   "execution_count": 5,
   "metadata": {},
   "outputs": [],
   "source": [
    "python_float = 4.0"
   ]
  },
  {
   "cell_type": "code",
   "execution_count": 6,
   "metadata": {},
   "outputs": [
    {
     "name": "stdout",
     "output_type": "stream",
     "text": [
      "c_float(16.0) : 16.0\n"
     ]
    }
   ],
   "source": [
    "ctypes_float = ctypes.c_float(python_float)\n",
    "ctypes_pointer = ctypes.pointer(ctypes_float)\n",
    "\n",
    "_ = fortran_routines.square_(ctypes_pointer)\n",
    "print(ctypes_pointer.contents,':',python_float**2)"
   ]
  },
  {
   "cell_type": "markdown",
   "metadata": {},
   "source": [
    "What happens here?"
   ]
  },
  {
   "cell_type": "code",
   "execution_count": 7,
   "metadata": {},
   "outputs": [
    {
     "name": "stdout",
     "output_type": "stream",
     "text": [
      "c_float(4.0) : 2.0\n"
     ]
    }
   ],
   "source": [
    "_ = fortran_routines.square_root_(ctypes_pointer)\n",
    "print(ctypes_pointer.contents,':',python_float**0.5)"
   ]
  },
  {
   "cell_type": "markdown",
   "metadata": {},
   "source": [
    "## Multi-dimensional array example\n",
    "\n",
    "* https://docs.scipy.org/doc/numpy/reference/routines.ctypeslib.html\n",
    "* https://docs.scipy.org/doc/numpy/reference/generated/numpy.ndarray.ctypes.html"
   ]
  },
  {
   "cell_type": "code",
   "execution_count": 8,
   "metadata": {},
   "outputs": [
    {
     "name": "stdout",
     "output_type": "stream",
     "text": [
      "Overwriting subroutines.f90\n"
     ]
    }
   ],
   "source": [
    "%%writefile subroutines.f90\n",
    "\n",
    "SUBROUTINE square(a,ij,ik)\n",
    "    IMPLICIT NONE\n",
    "    integer :: ij,ik\n",
    "    real, dimension(ij,ik) :: a\n",
    "    a = a**2\n",
    "END SUBROUTINE square\n"
   ]
  },
  {
   "cell_type": "code",
   "execution_count": 9,
   "metadata": {},
   "outputs": [
    {
     "name": "stdout",
     "output_type": "stream",
     "text": [
      "total 40K\n",
      "-rw-r--r-- 1 jovyan jovyan  156 Dec  5 07:06 README.md\n",
      "drwxr-xr-x 1 jovyan jovyan 4.0K Dec  5 07:06 binder\n",
      "-rw-r--r-- 1 jovyan root    17K Dec  5 07:34 lunch-seminar-teaser.ipynb\n",
      "-rw-r--r-- 1 jovyan root    134 Dec  5 07:34 subroutines.f90\n",
      "-rwxr-xr-x 1 jovyan root   7.3K Dec  5 07:34 subroutines.so\n"
     ]
    }
   ],
   "source": [
    "%%script bash\n",
    "gfortran -shared -fpic subroutines.f90 -o subroutines.so && ls -lrth\n",
    "#readelf --symbols subroutines.so"
   ]
  },
  {
   "cell_type": "code",
   "execution_count": 10,
   "metadata": {},
   "outputs": [],
   "source": [
    "import numpy as np\n",
    "fortran_routines = np.ctypeslib.load_library('subroutines.so','./').square_"
   ]
  },
  {
   "cell_type": "code",
   "execution_count": 11,
   "metadata": {},
   "outputs": [
    {
     "name": "stdout",
     "output_type": "stream",
     "text": [
      "[[0.33141847 0.84538779]\n",
      " [0.11465003 0.90672487]]\n"
     ]
    }
   ],
   "source": [
    "target_array = np.random.random((2,2))\n",
    "print(target_array)"
   ]
  },
  {
   "cell_type": "code",
   "execution_count": 12,
   "metadata": {},
   "outputs": [],
   "source": [
    "target_original = target_array.copy()"
   ]
  },
  {
   "cell_type": "code",
   "execution_count": 13,
   "metadata": {},
   "outputs": [
    {
     "name": "stdout",
     "output_type": "stream",
     "text": [
      "  C_CONTIGUOUS : False\n",
      "  F_CONTIGUOUS : True\n",
      "  OWNDATA : True\n",
      "  WRITEABLE : True\n",
      "  ALIGNED : True\n",
      "  WRITEBACKIFCOPY : False\n",
      "  UPDATEIFCOPY : False\n",
      "\n"
     ]
    }
   ],
   "source": [
    "target_array = np.asfortranarray(target_array,dtype=np.float32)\n",
    "print(target_array.flags)"
   ]
  },
  {
   "cell_type": "code",
   "execution_count": 14,
   "metadata": {},
   "outputs": [],
   "source": [
    "ik = np.array(target_array.shape[0],dtype=np.int32)\n",
    "ij = np.array(target_array.shape[1],dtype=np.int32)"
   ]
  },
  {
   "cell_type": "code",
   "execution_count": 15,
   "metadata": {},
   "outputs": [
    {
     "data": {
      "text/plain": [
       "3"
      ]
     },
     "execution_count": 15,
     "metadata": {},
     "output_type": "execute_result"
    }
   ],
   "source": [
    "fortran_routines(target_array.ctypes,ik.ctypes,ij.ctypes)"
   ]
  },
  {
   "cell_type": "code",
   "execution_count": 16,
   "metadata": {},
   "outputs": [
    {
     "name": "stdout",
     "output_type": "stream",
     "text": [
      "[[0.10983821 0.71468043]\n",
      " [0.01314463 0.82215   ]]\n"
     ]
    }
   ],
   "source": [
    "print(target_array)"
   ]
  },
  {
   "cell_type": "code",
   "execution_count": 17,
   "metadata": {},
   "outputs": [
    {
     "name": "stdout",
     "output_type": "stream",
     "text": [
      "[[0.1098382  0.71468051]\n",
      " [0.01314463 0.82214999]]\n"
     ]
    }
   ],
   "source": [
    "print(target_original**2)"
   ]
  },
  {
   "cell_type": "markdown",
   "metadata": {},
   "source": [
    "# Caveats: Beware of datatypes!\n",
    "* https://docs.scipy.org/doc/numpy/user/basics.types.html\n",
    "* e.g. https://northstar-www.dartmouth.edu/doc/solaris-forte/manuals/fortran/prog_guide/11_cfort.html\n",
    "\n",
    "and use FORTRAN wrappers with ISO_C_BINDING declarations...\n",
    "\n",
    "* get your datatypes clear!\n",
    "* name mangling\n",
    "* pass-by-value functionality"
   ]
  },
  {
   "cell_type": "code",
   "execution_count": 18,
   "metadata": {},
   "outputs": [
    {
     "name": "stdout",
     "output_type": "stream",
     "text": [
      "Overwriting subroutines.f90\n"
     ]
    }
   ],
   "source": [
    "%%writefile subroutines.f90\n",
    "\n",
    "SUBROUTINE sq1(a,ij,ik)\n",
    "    use iso_c_binding, only: c_int, c_double\n",
    "    IMPLICIT NONE\n",
    "    integer(c_int) :: ij,ik\n",
    "    real(c_double), dimension(ij,ik) :: a\n",
    "    a(:,:) = a**2\n",
    "END SUBROUTINE sq1\n"
   ]
  },
  {
   "cell_type": "markdown",
   "metadata": {},
   "source": [
    "# Questions\n",
    "\n",
    "* possible to create thin interface to existing modules with ctypes only-use?"
   ]
  }
 ],
 "metadata": {
  "kernelspec": {
   "display_name": "Python 3",
   "language": "python",
   "name": "python3"
  },
  "language_info": {
   "codemirror_mode": {
    "name": "ipython",
    "version": 3
   },
   "file_extension": ".py",
   "mimetype": "text/x-python",
   "name": "python",
   "nbconvert_exporter": "python",
   "pygments_lexer": "ipython3",
   "version": "3.7.3"
  }
 },
 "nbformat": 4,
 "nbformat_minor": 4
}
