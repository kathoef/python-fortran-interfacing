{
 "cells": [
  {
   "cell_type": "markdown",
   "metadata": {},
   "source": [
    "# Python FORTRAN interfacing examples\n",
    "add short description on scope of this notebook"
   ]
  },
  {
   "cell_type": "markdown",
   "metadata": {},
   "source": [
    "## Software requirements\n",
    "short description on necessary Python and FORTRAN compiler environment"
   ]
  },
  {
   "cell_type": "markdown",
   "metadata": {},
   "source": [
    "## How to use this notebook\n",
    "provide note on kernel restarts in terms of Python object handling and hypertext links on used IPython magics"
   ]
  },
  {
   "cell_type": "markdown",
   "metadata": {},
   "source": [
    "## Python ctypes example\n",
    "\n",
    "The ctypes module is part of the operating system services included in the standard Python software environment (both 2.7.x and 3.7.x) and provides methods for shared library function calling and to setup C compatible datatypes. It can therefore be used to wrap externally compiled executables/shared libraries in Python scripts. Basic compatibility with FORTRAN routines is given because functions and subroutines in FORTRAN are implemented in a similar way as in C and because several compiler independent C interoperability features were introduced with the Fortran 2003 standard. Therefore, FORTRAN code translated with any modern compiler should in principle be compatible with the code and workflows presented here. More details on how to assure interoperability, however, are given in the best practices section below. In this section only a minimalistic Jupyter based FORTRAN code development workflow and the basic mechanics of Python/FORTRAN interfacing are shown."
   ]
  },
  {
   "cell_type": "markdown",
   "metadata": {},
   "source": [
    "### Shared library building\n",
    "\n",
    "Using IPython file magics a simple FORTRAN routine is written to disk and compiled as shared library using the gfortran compiler. The FORTRAN routine `sqr1` calculates the square of a given integer (replacing the original value!). A Linux utility can be used to investigate the objects/symbols in the shared library. It contains a function called `sqr1_` which can be accessed via Python using the ctypes module. (Note, that the compiler has changed the subroutine's name, a process called name mangling. Different FORTRAN compilers might have different conventions here, thus requiring manual intervention on the Python/C side of the workflow. For information on how to anticipate this in a convenient way see the best practices section below.)"
   ]
  },
  {
   "cell_type": "code",
   "execution_count": 1,
   "metadata": {},
   "outputs": [
    {
     "name": "stdout",
     "output_type": "stream",
     "text": [
      "Overwriting sqr1.f90\n"
     ]
    }
   ],
   "source": [
    "%%writefile sqr1.f90\n",
    "subroutine sqr1(a)\n",
    "    implicit none\n",
    "    integer :: a\n",
    "    a = a**2\n",
    "end subroutine sqr1"
   ]
  },
  {
   "cell_type": "code",
   "execution_count": 2,
   "metadata": {},
   "outputs": [
    {
     "name": "stdout",
     "output_type": "stream",
     "text": [
      "/usr/bin/gfortran\n",
      "GNU Fortran (Ubuntu 7.4.0-1ubuntu1~18.04.1) 7.4.0\n",
      "Copyright (C) 2017 Free Software Foundation, Inc.\n",
      "This is free software; see the source for copying conditions.  There is NO\n",
      "warranty; not even for MERCHANTABILITY or FITNESS FOR A PARTICULAR PURPOSE.\n",
      "\n"
     ]
    }
   ],
   "source": [
    "%%script bash\n",
    "echo `which gfortran` && gfortran --version # optional\n",
    "gfortran -shared -fpic sqr1.f90 -o sqr1.so"
   ]
  },
  {
   "cell_type": "code",
   "execution_count": 3,
   "metadata": {},
   "outputs": [
    {
     "name": "stdout",
     "output_type": "stream",
     "text": [
      "\r\n",
      "Symbol table '.dynsym' contains 11 entries:\r\n",
      "   Num:    Value          Size Type    Bind   Vis      Ndx Name\r\n",
      "     0: 0000000000000000     0 NOTYPE  LOCAL  DEFAULT  UND \r\n",
      "     1: 0000000000000000     0 NOTYPE  WEAK   DEFAULT  UND __cxa_finalize\r\n",
      "     2: 0000000000000000     0 NOTYPE  WEAK   DEFAULT  UND _ITM_registerTMCloneTable\r\n",
      "     3: 0000000000000000     0 NOTYPE  WEAK   DEFAULT  UND _ITM_deregisterTMCloneTab\r\n",
      "     4: 0000000000000000     0 NOTYPE  WEAK   DEFAULT  UND __gmon_start__\r\n",
      "     5: 0000000000201020     0 NOTYPE  GLOBAL DEFAULT   18 _edata\r\n",
      "     6: 0000000000201028     0 NOTYPE  GLOBAL DEFAULT   19 _end\r\n",
      "     7: 000000000000057a    28 FUNC    GLOBAL DEFAULT    9 sqr1_\r\n",
      "     8: 0000000000000460     0 FUNC    GLOBAL DEFAULT    6 _init\r\n",
      "     9: 0000000000201020     0 NOTYPE  GLOBAL DEFAULT   19 __bss_start\r\n",
      "    10: 0000000000000598     0 FUNC    GLOBAL DEFAULT   10 _fini\r\n",
      "\r\n",
      "Symbol table '.symtab' contains 48 entries:\r\n",
      "   Num:    Value          Size Type    Bind   Vis      Ndx Name\r\n",
      "     0: 0000000000000000     0 NOTYPE  LOCAL  DEFAULT  UND \r\n",
      "     1: 00000000000001c8     0 SECTION LOCAL  DEFAULT    1 \r\n",
      "     2: 00000000000001f0     0 SECTION LOCAL  DEFAULT    2 \r\n",
      "     3: 0000000000000230     0 SECTION LOCAL  DEFAULT    3 \r\n",
      "     4: 0000000000000338     0 SECTION LOCAL  DEFAULT    4 \r\n",
      "     5: 00000000000003b8     0 SECTION LOCAL  DEFAULT    5 \r\n",
      "     6: 0000000000000460     0 SECTION LOCAL  DEFAULT    6 \r\n",
      "     7: 0000000000000480     0 SECTION LOCAL  DEFAULT    7 \r\n",
      "     8: 0000000000000490     0 SECTION LOCAL  DEFAULT    8 \r\n",
      "     9: 00000000000004a0     0 SECTION LOCAL  DEFAULT    9 \r\n",
      "    10: 0000000000000598     0 SECTION LOCAL  DEFAULT   10 \r\n",
      "    11: 00000000000005a4     0 SECTION LOCAL  DEFAULT   11 \r\n",
      "    12: 00000000000005c8     0 SECTION LOCAL  DEFAULT   12 \r\n",
      "    13: 0000000000200e80     0 SECTION LOCAL  DEFAULT   13 \r\n",
      "    14: 0000000000200e88     0 SECTION LOCAL  DEFAULT   14 \r\n",
      "    15: 0000000000200e90     0 SECTION LOCAL  DEFAULT   15 \r\n",
      "    16: 0000000000200fe0     0 SECTION LOCAL  DEFAULT   16 \r\n",
      "    17: 0000000000201000     0 SECTION LOCAL  DEFAULT   17 \r\n",
      "    18: 0000000000201018     0 SECTION LOCAL  DEFAULT   18 \r\n",
      "    19: 0000000000201020     0 SECTION LOCAL  DEFAULT   19 \r\n",
      "    20: 0000000000000000     0 SECTION LOCAL  DEFAULT   20 \r\n",
      "    21: 0000000000000000     0 FILE    LOCAL  DEFAULT  ABS crtstuff.c\r\n",
      "    22: 00000000000004a0     0 FUNC    LOCAL  DEFAULT    9 deregister_tm_clones\r\n",
      "    23: 00000000000004e0     0 FUNC    LOCAL  DEFAULT    9 register_tm_clones\r\n",
      "    24: 0000000000000530     0 FUNC    LOCAL  DEFAULT    9 __do_global_dtors_aux\r\n",
      "    25: 0000000000201020     1 OBJECT  LOCAL  DEFAULT   19 completed.7697\r\n",
      "    26: 0000000000200e88     0 OBJECT  LOCAL  DEFAULT   14 __do_global_dtors_aux_fin\r\n",
      "    27: 0000000000000570     0 FUNC    LOCAL  DEFAULT    9 frame_dummy\r\n",
      "    28: 0000000000200e80     0 OBJECT  LOCAL  DEFAULT   13 __frame_dummy_init_array_\r\n",
      "    29: 0000000000000000     0 FILE    LOCAL  DEFAULT  ABS sqr1.f90\r\n",
      "    30: 0000000000000000     0 FILE    LOCAL  DEFAULT  ABS crtstuff.c\r\n",
      "    31: 0000000000000640     0 OBJECT  LOCAL  DEFAULT   12 __FRAME_END__\r\n",
      "    32: 0000000000000000     0 FILE    LOCAL  DEFAULT  ABS \r\n",
      "    33: 0000000000200e90     0 OBJECT  LOCAL  DEFAULT   15 _DYNAMIC\r\n",
      "    34: 0000000000201020     0 OBJECT  LOCAL  DEFAULT   18 __TMC_END__\r\n",
      "    35: 0000000000201018     0 OBJECT  LOCAL  DEFAULT   18 __dso_handle\r\n",
      "    36: 00000000000005a4     0 NOTYPE  LOCAL  DEFAULT   11 __GNU_EH_FRAME_HDR\r\n",
      "    37: 0000000000201000     0 OBJECT  LOCAL  DEFAULT   17 _GLOBAL_OFFSET_TABLE_\r\n",
      "    38: 0000000000000000     0 NOTYPE  WEAK   DEFAULT  UND __cxa_finalize\r\n",
      "    39: 000000000000057a    28 FUNC    GLOBAL DEFAULT    9 sqr1_\r\n",
      "    40: 0000000000000460     0 FUNC    GLOBAL DEFAULT    6 _init\r\n",
      "    41: 0000000000000000     0 NOTYPE  WEAK   DEFAULT  UND _ITM_registerTMCloneTable\r\n",
      "    42: 0000000000000000     0 NOTYPE  WEAK   DEFAULT  UND _ITM_deregisterTMCloneTab\r\n",
      "    43: 0000000000201020     0 NOTYPE  GLOBAL DEFAULT   19 __bss_start\r\n",
      "    44: 0000000000000598     0 FUNC    GLOBAL DEFAULT   10 _fini\r\n",
      "    45: 0000000000201020     0 NOTYPE  GLOBAL DEFAULT   18 _edata\r\n",
      "    46: 0000000000201028     0 NOTYPE  GLOBAL DEFAULT   19 _end\r\n",
      "    47: 0000000000000000     0 NOTYPE  WEAK   DEFAULT  UND __gmon_start__\r\n"
     ]
    }
   ],
   "source": [
    "!readelf --symbols sqr1.so"
   ]
  },
  {
   "cell_type": "markdown",
   "metadata": {},
   "source": [
    "### Interfacing with Python ctypes\n",
    "In Python a shared library can be accessed using the ctypes module. By default arguments in FORTRAN are passed by reference, thus FORTRAN subroutine arguments must be passed as memory addresses, i.e. as pointers to an already existing valid C datatype. The FORTRAN subroutine above expects an integer type as argument. To this end, a pointer object containing a C integer datatype (that is initialized using a Python integer) is constructed. Calling the FORTRAN subroutine with this pointer triggers the calculation of the square value with replacement of the original value in the associated memory block. A conversion back into a Python integer datatype can be achieved using ctypes attributes as shown below."
   ]
  },
  {
   "cell_type": "code",
   "execution_count": 4,
   "metadata": {},
   "outputs": [],
   "source": [
    "def print_object_info(pyobject):\n",
    "    return print(id(pyobject),type(pyobject),pyobject)"
   ]
  },
  {
   "cell_type": "code",
   "execution_count": 5,
   "metadata": {},
   "outputs": [],
   "source": [
    "import ctypes as ctypes\n",
    "fortran_subroutine = ctypes.CDLL('./sqr1.so')"
   ]
  },
  {
   "cell_type": "code",
   "execution_count": 6,
   "metadata": {},
   "outputs": [
    {
     "name": "stdout",
     "output_type": "stream",
     "text": [
      "94331627975904 <class 'int'> 7\n"
     ]
    }
   ],
   "source": [
    "python_integer_object = 7 # set an integer value to be squared by the FORTRAN routine\n",
    "print_object_info(python_integer_object)"
   ]
  },
  {
   "cell_type": "code",
   "execution_count": 7,
   "metadata": {},
   "outputs": [
    {
     "name": "stdout",
     "output_type": "stream",
     "text": [
      "140475436833104 <class 'ctypes.c_int'> c_int(7)\n"
     ]
    }
   ],
   "source": [
    "ctypes_integer_object = ctypes.c_int(python_integer_object) # create a C integer type from above Python integer\n",
    "print_object_info(ctypes_integer_object)"
   ]
  },
  {
   "cell_type": "code",
   "execution_count": 8,
   "metadata": {},
   "outputs": [
    {
     "name": "stdout",
     "output_type": "stream",
     "text": [
      "140475436830792 <class '__main__.LP_c_int'> <__main__.LP_c_int object at 0x7fc2fc831048>\n"
     ]
    }
   ],
   "source": [
    "ctypes_pointer_object = ctypes.pointer(ctypes_integer_object) # create a pointer object with the C integer type above\n",
    "print_object_info(ctypes_pointer_object)"
   ]
  },
  {
   "cell_type": "code",
   "execution_count": 9,
   "metadata": {},
   "outputs": [
    {
     "name": "stdout",
     "output_type": "stream",
     "text": [
      "140475436830792 <class '__main__.LP_c_int'> <__main__.LP_c_int object at 0x7fc2fc831048>\n"
     ]
    }
   ],
   "source": [
    "_ = fortran_subroutine.sqr1_(ctypes_pointer_object) # the value is calculated in place!\n",
    "print_object_info(ctypes_pointer_object)"
   ]
  },
  {
   "cell_type": "code",
   "execution_count": 10,
   "metadata": {},
   "outputs": [
    {
     "name": "stdout",
     "output_type": "stream",
     "text": [
      "c_int(49)\n"
     ]
    }
   ],
   "source": [
    "print(ctypes_pointer_object.contents)"
   ]
  },
  {
   "cell_type": "code",
   "execution_count": 11,
   "metadata": {},
   "outputs": [
    {
     "name": "stdout",
     "output_type": "stream",
     "text": [
      "94331627977248 <class 'int'> 49\n"
     ]
    }
   ],
   "source": [
    "print_object_info(ctypes_pointer_object.contents.value)"
   ]
  },
  {
   "cell_type": "markdown",
   "metadata": {},
   "source": [
    "### References\n",
    "* https://docs.python.org/3/library/ctypes.html\n",
    "* [https://software.intel.com/fortran-compiler-developer-guide](https://software.intel.com/en-us/fortran-compiler-developer-guide-and-reference-mixed-language-programming)"
   ]
  },
  {
   "cell_type": "markdown",
   "metadata": {},
   "source": [
    "## Numpy multi-dimensional array example\n",
    "add short example using the numpy ctypeslib and the ctypes attribute of numpy arrays"
   ]
  },
  {
   "cell_type": "code",
   "execution_count": null,
   "metadata": {},
   "outputs": [],
   "source": []
  },
  {
   "cell_type": "code",
   "execution_count": null,
   "metadata": {},
   "outputs": [],
   "source": []
  },
  {
   "cell_type": "markdown",
   "metadata": {},
   "source": [
    "## Stumbling blocks\n",
    "cover UNIX environment and FORTRAN compiler stuff, incomplete collection..."
   ]
  },
  {
   "cell_type": "code",
   "execution_count": null,
   "metadata": {},
   "outputs": [],
   "source": []
  },
  {
   "cell_type": "code",
   "execution_count": null,
   "metadata": {},
   "outputs": [],
   "source": []
  },
  {
   "cell_type": "markdown",
   "metadata": {},
   "source": [
    "## C/FORTRAN interoperability issues\n",
    "basically,\n",
    "* https://northstar-www.dartmouth.edu/doc/solaris-forte/manuals/fortran/prog_guide/11_cfort.html\n",
    "* https://gcc.gnu.org/onlinedocs/gcc-8.2.0/gfortran/Interoperability-with-C.html"
   ]
  },
  {
   "cell_type": "code",
   "execution_count": null,
   "metadata": {},
   "outputs": [],
   "source": []
  },
  {
   "cell_type": "code",
   "execution_count": null,
   "metadata": {},
   "outputs": [],
   "source": []
  },
  {
   "cell_type": "markdown",
   "metadata": {},
   "source": [
    "## Best practices\n",
    "cover Python/C/FORTRAN interfacing in terms of best practices for use in ocean model development"
   ]
  },
  {
   "cell_type": "code",
   "execution_count": null,
   "metadata": {},
   "outputs": [],
   "source": []
  },
  {
   "cell_type": "code",
   "execution_count": null,
   "metadata": {},
   "outputs": [],
   "source": []
  },
  {
   "cell_type": "markdown",
   "metadata": {},
   "source": [
    "## Pytest example\n",
    "cover best practices towards test-driven development of ocean model FORTRAN subroutines?"
   ]
  },
  {
   "cell_type": "code",
   "execution_count": null,
   "metadata": {},
   "outputs": [],
   "source": []
  },
  {
   "cell_type": "code",
   "execution_count": null,
   "metadata": {},
   "outputs": [],
   "source": []
  },
  {
   "cell_type": "markdown",
   "metadata": {},
   "source": [
    "## Software environment"
   ]
  },
  {
   "cell_type": "code",
   "execution_count": 12,
   "metadata": {},
   "outputs": [
    {
     "name": "stdout",
     "output_type": "stream",
     "text": [
      "GNU Fortran (Ubuntu 7.4.0-1ubuntu1~18.04.1) 7.4.0\r\n",
      "Copyright (C) 2017 Free Software Foundation, Inc.\r\n",
      "This is free software; see the source for copying conditions.  There is NO\r\n",
      "warranty; not even for MERCHANTABILITY or FITNESS FOR A PARTICULAR PURPOSE.\r\n",
      "\r\n"
     ]
    }
   ],
   "source": [
    "!gfortran --version"
   ]
  },
  {
   "cell_type": "code",
   "execution_count": 13,
   "metadata": {},
   "outputs": [
    {
     "name": "stdout",
     "output_type": "stream",
     "text": [
      "conda 4.7.10\r\n"
     ]
    }
   ],
   "source": [
    "!conda --version"
   ]
  },
  {
   "cell_type": "code",
   "execution_count": 14,
   "metadata": {},
   "outputs": [
    {
     "name": "stdout",
     "output_type": "stream",
     "text": [
      "# packages in environment at /srv/conda/envs/notebook:\r\n",
      "#\r\n",
      "# Name                    Version                   Build  Channel\r\n",
      "_libgcc_mutex             0.1                        main    defaults\r\n",
      "alembic                   1.1.0                      py_0    conda-forge\r\n",
      "asn1crypto                0.24.0                py37_1003    conda-forge\r\n",
      "async_generator           1.10                       py_0    conda-forge\r\n",
      "attrs                     19.1.0                     py_0    conda-forge\r\n",
      "backcall                  0.1.0                      py_0    conda-forge\r\n",
      "bleach                    3.1.0                      py_0    conda-forge\r\n",
      "blinker                   1.4                        py_1    conda-forge\r\n",
      "bzip2                     1.0.8                h516909a_1    conda-forge\r\n",
      "ca-certificates           2019.9.11            hecc5488_0    conda-forge\r\n",
      "certifi                   2019.9.11                py37_0    conda-forge\r\n",
      "certipy                   0.1.3                      py_0    conda-forge\r\n",
      "cffi                      1.12.3           py37h8022711_0    conda-forge\r\n",
      "chardet                   3.0.4                 py37_1003    conda-forge\r\n",
      "configurable-http-proxy   4.1.0                  node11_1    conda-forge\r\n",
      "cryptography              2.7              py37h72c5cf5_0    conda-forge\r\n",
      "decorator                 4.4.0                      py_0    conda-forge\r\n",
      "defusedxml                0.5.0                      py_1    conda-forge\r\n",
      "entrypoints               0.3                   py37_1000    conda-forge\r\n",
      "idna                      2.8                   py37_1000    conda-forge\r\n",
      "ipykernel                 5.1.2            py37h5ca1d4c_0    conda-forge\r\n",
      "ipython                   7.8.0            py37h5ca1d4c_0    conda-forge\r\n",
      "ipython_genutils          0.2.0                      py_1    conda-forge\r\n",
      "ipywidgets                7.4.2                      py_0    conda-forge\r\n",
      "jedi                      0.15.1                   py37_0    conda-forge\r\n",
      "jinja2                    2.10.1                     py_0    conda-forge\r\n",
      "jsonschema                3.0.2                    py37_0    conda-forge\r\n",
      "jupyter_client            5.3.1                      py_0    conda-forge\r\n",
      "jupyter_core              4.4.0                      py_0    conda-forge\r\n",
      "jupyterhub                1.0.0                    py37_0    conda-forge\r\n",
      "jupyterlab                0.35.4                   py37_0    conda-forge\r\n",
      "jupyterlab_server         0.2.0                      py_0    conda-forge\r\n",
      "krb5                      1.16.3            h05b26f9_1001    conda-forge\r\n",
      "libcurl                   7.65.3               hda55be3_0    conda-forge\r\n",
      "libedit                   3.1.20170329      hf8c457e_1001    conda-forge\r\n",
      "libffi                    3.2.1             he1b5a44_1006    conda-forge\r\n",
      "libgcc-ng                 9.1.0                hdf63c60_0    defaults\r\n",
      "libsodium                 1.0.17               h516909a_0    conda-forge\r\n",
      "libssh2                   1.8.2                h22169c7_2    conda-forge\r\n",
      "libstdcxx-ng              9.1.0                hdf63c60_0    defaults\r\n",
      "mako                      1.1.0                      py_0    conda-forge\r\n",
      "markupsafe                1.1.1            py37h14c3975_0    conda-forge\r\n",
      "mistune                   0.8.4           py37h14c3975_1000    conda-forge\r\n",
      "nbconvert                 5.4.1                      py_2    conda-forge\r\n",
      "nbformat                  4.4.0                      py_1    conda-forge\r\n",
      "ncurses                   6.1               hf484d3e_1002    conda-forge\r\n",
      "nodejs                    11.14.0              he1b5a44_1    conda-forge\r\n",
      "notebook                  5.7.8                    py37_1    conda-forge\r\n",
      "nteract_on_jupyter        2.1.3                      py_0    conda-forge\r\n",
      "numpy                     1.17.2                   pypi_0    pypi\r\n",
      "oauthlib                  3.0.1                      py_0    conda-forge\r\n",
      "openssl                   1.1.1c               h516909a_0    conda-forge\r\n",
      "pamela                    1.0.0                      py_0    conda-forge\r\n",
      "pandoc                    2.7.3                         0    conda-forge\r\n",
      "pandocfilters             1.4.2                      py_1    conda-forge\r\n",
      "parso                     0.5.1                      py_0    conda-forge\r\n",
      "pexpect                   4.7.0                    py37_0    conda-forge\r\n",
      "pickleshare               0.7.5                 py37_1000    conda-forge\r\n",
      "pip                       19.2.3                   py37_0    conda-forge\r\n",
      "prometheus_client         0.7.1                      py_0    conda-forge\r\n",
      "prompt_toolkit            2.0.9                      py_0    conda-forge\r\n",
      "ptyprocess                0.6.0                   py_1001    conda-forge\r\n",
      "pycparser                 2.19                     py37_1    conda-forge\r\n",
      "pycurl                    7.43.0.2         py37h16ce93b_1    conda-forge\r\n",
      "pygments                  2.4.2                      py_0    conda-forge\r\n",
      "pyjwt                     1.7.1                      py_0    conda-forge\r\n",
      "pyopenssl                 19.0.0                   py37_0    conda-forge\r\n",
      "pyrsistent                0.15.4           py37h516909a_0    conda-forge\r\n",
      "pysocks                   1.7.0                    py37_0    conda-forge\r\n",
      "python                    3.7.3                h33d41f4_1    conda-forge\r\n",
      "python-dateutil           2.8.0                      py_0    conda-forge\r\n",
      "python-editor             1.0.4                      py_0    conda-forge\r\n",
      "pyzmq                     18.1.0           py37h1768529_0    conda-forge\r\n",
      "readline                  8.0                  hf8c457e_0    conda-forge\r\n",
      "requests                  2.22.0                   py37_1    conda-forge\r\n",
      "send2trash                1.5.0                      py_0    conda-forge\r\n",
      "setuptools                41.2.0                   py37_0    conda-forge\r\n",
      "six                       1.12.0                py37_1000    conda-forge\r\n",
      "sqlalchemy                1.3.8            py37h516909a_0    conda-forge\r\n",
      "sqlite                    3.29.0               hcee41ef_1    conda-forge\r\n",
      "terminado                 0.8.2                    py37_0    conda-forge\r\n",
      "testpath                  0.4.2                   py_1001    conda-forge\r\n",
      "tk                        8.6.9             hed695b0_1003    conda-forge\r\n",
      "tornado                   6.0.3            py37h516909a_0    conda-forge\r\n",
      "traitlets                 4.3.2                 py37_1000    conda-forge\r\n",
      "urllib3                   1.25.3                   py37_0    conda-forge\r\n",
      "wcwidth                   0.1.7                      py_1    conda-forge\r\n",
      "webencodings              0.5.1                      py_1    conda-forge\r\n",
      "wheel                     0.33.6                   py37_0    conda-forge\r\n",
      "widgetsnbextension        3.4.2                 py37_1000    conda-forge\r\n",
      "xz                        5.2.4             h14c3975_1001    conda-forge\r\n",
      "zeromq                    4.3.2                he1b5a44_2    conda-forge\r\n",
      "zlib                      1.2.11            h516909a_1006    conda-forge\r\n"
     ]
    }
   ],
   "source": [
    "!conda list"
   ]
  },
  {
   "cell_type": "code",
   "execution_count": null,
   "metadata": {},
   "outputs": [],
   "source": []
  }
 ],
 "metadata": {
  "kernelspec": {
   "display_name": "Python 3",
   "language": "python",
   "name": "python3"
  },
  "language_info": {
   "codemirror_mode": {
    "name": "ipython",
    "version": 3
   },
   "file_extension": ".py",
   "mimetype": "text/x-python",
   "name": "python",
   "nbconvert_exporter": "python",
   "pygments_lexer": "ipython3",
   "version": "3.7.3"
  }
 },
 "nbformat": 4,
 "nbformat_minor": 2
}
